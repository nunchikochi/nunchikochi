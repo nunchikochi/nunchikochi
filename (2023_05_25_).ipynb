{
  "nbformat": 4,
  "nbformat_minor": 0,
  "metadata": {
    "colab": {
      "provenance": [],
      "authorship_tag": "ABX9TyOx2DN9DwNJojBSn6yNMkQ7",
      "include_colab_link": true
    },
    "kernelspec": {
      "name": "python3",
      "display_name": "Python 3"
    },
    "language_info": {
      "name": "python"
    },
    "gpuClass": "standard"
  },
  "cells": [
    {
      "cell_type": "markdown",
      "metadata": {
        "id": "view-in-github",
        "colab_type": "text"
      },
      "source": [
        "<a href=\"https://colab.research.google.com/github/nunchikochi/nunchikochi/blob/main/(2023_05_25_).ipynb\" target=\"_parent\"><img src=\"https://colab.research.google.com/assets/colab-badge.svg\" alt=\"Open In Colab\"/></a>"
      ]
    },
    {
      "cell_type": "markdown",
      "source": [
        "1. 구구단 출력"
      ],
      "metadata": {
        "id": "saEStKK4l-1D"
      }
    },
    {
      "cell_type": "code",
      "execution_count": 1,
      "metadata": {
        "colab": {
          "base_uri": "https://localhost:8080/"
        },
        "id": "cAouBtlAk4nY",
        "outputId": "bfc75ce4-dae2-4f2f-c98f-5a696667e6b8"
      },
      "outputs": [
        {
          "output_type": "stream",
          "name": "stdout",
          "text": [
            "1x1=1\n",
            "1x2=2\n",
            "1x3=3\n",
            "1x4=4\n",
            "1x5=5\n",
            "1x6=6\n",
            "1x7=7\n",
            "1x8=8\n",
            "1x9=9\n",
            "2x1=2\n",
            "2x2=4\n",
            "2x3=6\n",
            "2x4=8\n",
            "2x5=10\n",
            "2x6=12\n",
            "2x7=14\n",
            "2x8=16\n",
            "2x9=18\n",
            "3x1=3\n",
            "3x2=6\n",
            "3x3=9\n",
            "3x4=12\n",
            "3x5=15\n",
            "3x6=18\n",
            "3x7=21\n",
            "3x8=24\n",
            "3x9=27\n",
            "4x1=4\n",
            "4x2=8\n",
            "4x3=12\n",
            "4x4=16\n",
            "4x5=20\n",
            "4x6=24\n",
            "4x7=28\n",
            "4x8=32\n",
            "4x9=36\n",
            "5x1=5\n",
            "5x2=10\n",
            "5x3=15\n",
            "5x4=20\n",
            "5x5=25\n",
            "5x6=30\n",
            "5x7=35\n",
            "5x8=40\n",
            "5x9=45\n",
            "6x1=6\n",
            "6x2=12\n",
            "6x3=18\n",
            "6x4=24\n",
            "6x5=30\n",
            "6x6=36\n",
            "6x7=42\n",
            "6x8=48\n",
            "6x9=54\n",
            "7x1=7\n",
            "7x2=14\n",
            "7x3=21\n",
            "7x4=28\n",
            "7x5=35\n",
            "7x6=42\n",
            "7x7=49\n",
            "7x8=56\n",
            "7x9=63\n",
            "8x1=8\n",
            "8x2=16\n",
            "8x3=24\n",
            "8x4=32\n",
            "8x5=40\n",
            "8x6=48\n",
            "8x7=56\n",
            "8x8=64\n",
            "8x9=72\n",
            "9x1=9\n",
            "9x2=18\n",
            "9x3=27\n",
            "9x4=36\n",
            "9x5=45\n",
            "9x6=54\n",
            "9x7=63\n",
            "9x8=72\n",
            "9x9=81\n"
          ]
        }
      ],
      "source": [
        "\n",
        "for i in range(1,10):\n",
        "    for j in range(1,10):\n",
        "        print(f\"{i}x{j}={i*j}\")\n",
        "        "
      ]
    },
    {
      "cell_type": "markdown",
      "source": [
        "2. 1부터 n까지 합"
      ],
      "metadata": {
        "id": "-i_8smQ3mqBN"
      }
    },
    {
      "cell_type": "code",
      "source": [
        "sum=0\n",
        "number=int(input(\"자연수를 입력하세요.\"))\n",
        "\n",
        "for i in range(1,number+1):\n",
        "    sum=sum+i\n",
        "print(sum)"
      ],
      "metadata": {
        "colab": {
          "base_uri": "https://localhost:8080/"
        },
        "id": "PVzhWafDml0_",
        "outputId": "47c173ad-4b76-4be7-98e6-c09e56d24703"
      },
      "execution_count": 2,
      "outputs": [
        {
          "output_type": "stream",
          "name": "stdout",
          "text": [
            "자연수를 입력하세요.10\n",
            "55\n"
          ]
        }
      ]
    },
    {
      "cell_type": "markdown",
      "source": [
        "3. 1부터 n까지의 곱"
      ],
      "metadata": {
        "id": "oFySI28bnF7P"
      }
    },
    {
      "cell_type": "code",
      "source": [
        "times=1\n",
        "number=int(input(\"자연수를 입력하세요.\"))\n",
        "\n",
        "for i in range(1,number+1):\n",
        "    times=times*i\n",
        "print(times)"
      ],
      "metadata": {
        "colab": {
          "base_uri": "https://localhost:8080/"
        },
        "id": "3s4mQUIBnJXh",
        "outputId": "2d052d14-3f44-4193-b86a-a90465950886"
      },
      "execution_count": 3,
      "outputs": [
        {
          "output_type": "stream",
          "name": "stdout",
          "text": [
            "자연수를 입력하세요.10\n",
            "3628800\n"
          ]
        }
      ]
    },
    {
      "cell_type": "markdown",
      "source": [
        "4. 짝수 판정"
      ],
      "metadata": {
        "id": "UUFiblcKnYy-"
      }
    },
    {
      "cell_type": "code",
      "source": [
        "number=int(input(\"수를 입력하세요.\"))\n",
        "if number%2==0:\n",
        "    print(f\"{number}는 짝수입니다.\")\n",
        "else:\n",
        "    print(f\"{number}는 홀수입니다.\")"
      ],
      "metadata": {
        "colab": {
          "base_uri": "https://localhost:8080/"
        },
        "id": "t3wSzbkMnbQn",
        "outputId": "94f7454f-53e9-40ca-bf87-aabbc1e03013"
      },
      "execution_count": 4,
      "outputs": [
        {
          "output_type": "stream",
          "name": "stdout",
          "text": [
            "수를 입력하세요.33\n",
            "33는 홀수입니다.\n"
          ]
        }
      ]
    },
    {
      "cell_type": "markdown",
      "source": [
        "5. 약수 찾기\n"
      ],
      "metadata": {
        "id": "2aI-UdSToI6j"
      }
    },
    {
      "cell_type": "code",
      "source": [
        "number=int(input(\"자연수를 입력하세요.\"))\n",
        "result=[]\n",
        "\n",
        "for i in range(1,number+1):\n",
        "    if number%i==0:\n",
        "        result.append(i)\n",
        "print(result)"
      ],
      "metadata": {
        "colab": {
          "base_uri": "https://localhost:8080/"
        },
        "id": "Ze4TCGMUoLL-",
        "outputId": "67929103-eba5-46e0-9057-30729c3c142d"
      },
      "execution_count": 8,
      "outputs": [
        {
          "output_type": "stream",
          "name": "stdout",
          "text": [
            "자연수를 입력하세요.33\n",
            "[1, 3, 11, 33]\n"
          ]
        }
      ]
    },
    {
      "cell_type": "markdown",
      "source": [
        "6. 소수 판정\n"
      ],
      "metadata": {
        "id": "mRQINHbLtIYl"
      }
    },
    {
      "cell_type": "code",
      "source": [
        "chk=1\n",
        "n=int(input(\"수를 입력하세요.\"))\n",
        "for i in range(2,int(n**0.5+1)):\n",
        "\tif n%i==0:\n",
        "\t\tchk=0\n",
        "\t\tbreak\n",
        "if chk==1:\n",
        "    print(n, \": 소수임\")\n",
        "else:\n",
        "    print(n, \": 소수아님\")"
      ],
      "metadata": {
        "colab": {
          "base_uri": "https://localhost:8080/"
        },
        "id": "18yoQXe7tPKb",
        "outputId": "d6ec62c1-fd26-4f4e-f69e-bef4ef2079cf"
      },
      "execution_count": 9,
      "outputs": [
        {
          "output_type": "stream",
          "name": "stdout",
          "text": [
            "수를 입력하세요.55\n",
            "55 : 소수아님\n"
          ]
        }
      ]
    }
  ]
}